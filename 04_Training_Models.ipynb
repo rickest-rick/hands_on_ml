{
 "cells": [
  {
   "cell_type": "code",
   "execution_count": 2,
   "metadata": {},
   "outputs": [],
   "source": [
    "import numpy as np\n",
    "import matplotlib.pyplot as plt\n",
    "\n",
    "X = 2 * np.random.rand(100, 1)\n",
    "y = 4 + 3 * X + np.random.randn(100, 1)"
   ]
  },
  {
   "cell_type": "code",
   "execution_count": 3,
   "metadata": {},
   "outputs": [
    {
     "data": {
      "text/plain": [
       "array([[4.00370665],\n",
       "       [2.82435983]])"
      ]
     },
     "execution_count": 3,
     "metadata": {},
     "output_type": "execute_result"
    }
   ],
   "source": [
    "X_b = np.c_[np.ones((100, 1)), X]  # add x0 = 1 to each instance\n",
    "theta_best = np.linalg.inv(X_b.T.dot(X_b)).dot(X_b.T).dot(y)\n",
    "theta_best"
   ]
  },
  {
   "cell_type": "code",
   "execution_count": 4,
   "metadata": {},
   "outputs": [
    {
     "data": {
      "text/plain": [
       "array([[4.00370665],\n",
       "       [9.65242631]])"
      ]
     },
     "execution_count": 4,
     "metadata": {},
     "output_type": "execute_result"
    }
   ],
   "source": [
    "X_new = np.array([[0], [2]])\n",
    "X_new_b = np.c_[np.ones((2,1 )), X_new]  # add X0 = 1 to each instance\n",
    "y_predict = X_new_b.dot(theta_best)\n",
    "y_predict"
   ]
  },
  {
   "cell_type": "code",
   "execution_count": 5,
   "metadata": {},
   "outputs": [
    {
     "data": {
      "image/png": "[encoded data removed]",
      "text/plain": [
       "<Figure size 432x288 with 1 Axes>"
      ]
     },
     "metadata": {
      "needs_background": "light"
     },
     "output_type": "display_data"
    }
   ],
   "source": [
    "plt.plot(X_new, y_predict, \"r-\")\n",
    "plt.plot(X, y, \"b.\")\n",
    "plt.axis([0, 2, 0, 15])\n",
    "plt.show()"
   ]
  },
  {
   "cell_type": "code",
   "execution_count": 6,
   "metadata": {},
   "outputs": [
    {
     "data": {
      "text/plain": [
       "(array([4.00370665]), array([[2.82435983]]))"
      ]
     },
     "execution_count": 6,
     "metadata": {},
     "output_type": "execute_result"
    }
   ],
   "source": [
    "from sklearn.linear_model import LinearRegression\n",
    "\n",
    "lin_reg = LinearRegression()\n",
    "lin_reg.fit(X, y)\n",
    "lin_reg.intercept_, lin_reg.coef_"
   ]
  },
  {
   "cell_type": "code",
   "execution_count": 7,
   "metadata": {},
   "outputs": [
    {
     "data": {
      "text/plain": [
       "array([[4.00370665],\n",
       "       [9.65242631]])"
      ]
     },
     "execution_count": 7,
     "metadata": {},
     "output_type": "execute_result"
    }
   ],
   "source": [
    "lin_reg.predict(X_new)"
   ]
  },
  {
   "cell_type": "code",
   "execution_count": 8,
   "metadata": {},
   "outputs": [
    {
     "data": {
      "text/plain": [
       "array([[4.00370665],\n",
       "       [2.82435983]])"
      ]
     },
     "execution_count": 8,
     "metadata": {},
     "output_type": "execute_result"
    }
   ],
   "source": [
    "theta_best_svd, residuals, rank, s = np.linalg.lstsq(X_b, y, rcond=1e-6)\n",
    "theta_best_svd"
   ]
  },
  {
   "cell_type": "code",
   "execution_count": 9,
   "metadata": {},
   "outputs": [
    {
     "data": {
      "text/plain": [
       "array([[4.00370665],\n",
       "       [2.82435983]])"
      ]
     },
     "execution_count": 9,
     "metadata": {},
     "output_type": "execute_result"
    }
   ],
   "source": [
    "np.linalg.pinv(X_b).dot(y)"
   ]
  },
  {
   "cell_type": "code",
   "execution_count": 10,
   "metadata": {},
   "outputs": [
    {
     "data": {
      "text/plain": [
       "array([[4.00370665],\n",
       "       [2.82435983]])"
      ]
     },
     "execution_count": 10,
     "metadata": {},
     "output_type": "execute_result"
    }
   ],
   "source": [
    "eta = 0.1  # learning rate\n",
    "n_iterations = 1000\n",
    "m = 100\n",
    "\n",
    "theta = np.random.randn(2, 1)  # random initialization\n",
    "\n",
    "for iteration in range(n_iterations):\n",
    "    gradients = 2/m * X_b.T.dot(X_b.dot(theta) - y)\n",
    "    theta = theta - eta * gradients\n",
    "theta"
   ]
  },
  {
   "cell_type": "code",
   "execution_count": 11,
   "metadata": {},
   "outputs": [
    {
     "data": {
      "text/plain": [
       "array([[3.97780071],\n",
       "       [2.89632193]])"
      ]
     },
     "execution_count": 11,
     "metadata": {},
     "output_type": "execute_result"
    }
   ],
   "source": [
    "n_epochs = 50\n",
    "t0, t1 = 5, 50  # learning schedule hyperparameters\n",
    "\n",
    "def learning_schedule(t):\n",
    "    return t0 / (t + t1)\n",
    "\n",
    "theta = np.random.randn(2, 1)  # random initialization\n",
    "\n",
    "for epoch in range(n_epochs):\n",
    "    for i in range(m):\n",
    "        random_index = np.random.randint(m)\n",
    "        xi = X_b[random_index: random_index+1]\n",
    "        yi = y[random_index: random_index+1]\n",
    "        gradients = 2 * xi.T.dot(xi.dot(theta) - yi)\n",
    "        eta = learning_schedule(epoch * m + i)\n",
    "        theta = theta - eta * gradients\n",
    "theta"
   ]
  },
  {
   "cell_type": "code",
   "execution_count": 12,
   "metadata": {},
   "outputs": [
    {
     "data": {
      "text/plain": [
       "(array([3.97169333]), array([2.80824618]))"
      ]
     },
     "execution_count": 12,
     "metadata": {},
     "output_type": "execute_result"
    }
   ],
   "source": [
    "from sklearn.linear_model import SGDRegressor\n",
    "\n",
    "sgd_reg = SGDRegressor(max_iter = 1000, tol=1e-3, penalty=None, eta0=0.1)\n",
    "sgd_reg.fit(X, y.ravel())\n",
    "sgd_reg.intercept_, sgd_reg.coef_"
   ]
  },
  {
   "cell_type": "code",
   "execution_count": 13,
   "metadata": {},
   "outputs": [],
   "source": [
    "m = 100\n",
    "X = 6 * np.random.rand(m, 1) - 3\n",
    "y = 0.5 * X**2 + X + 2 + np.random.randn(m, 1)"
   ]
  },
  {
   "cell_type": "code",
   "execution_count": 14,
   "metadata": {},
   "outputs": [
    {
     "data": {
      "text/plain": [
       "array([1.2547103])"
      ]
     },
     "execution_count": 14,
     "metadata": {},
     "output_type": "execute_result"
    }
   ],
   "source": [
    "from sklearn.preprocessing import PolynomialFeatures\n",
    "\n",
    "poly_features = PolynomialFeatures(degree=2, include_bias=False)\n",
    "X_poly = poly_features.fit_transform(X)\n",
    "X[0]"
   ]
  },
  {
   "cell_type": "code",
   "execution_count": 15,
   "metadata": {},
   "outputs": [
    {
     "data": {
      "text/plain": [
       "array([1.2547103 , 1.57429795])"
      ]
     },
     "execution_count": 15,
     "metadata": {},
     "output_type": "execute_result"
    }
   ],
   "source": [
    "X_poly[0]"
   ]
  },
  {
   "cell_type": "code",
   "execution_count": 16,
   "metadata": {},
   "outputs": [
    {
     "data": {
      "text/plain": [
       "(array([1.92419105]), array([[0.9974925, 0.5168304]]))"
      ]
     },
     "execution_count": 16,
     "metadata": {},
     "output_type": "execute_result"
    }
   ],
   "source": [
    "lin_reg = LinearRegression()\n",
    "lin_reg.fit(X_poly, y)\n",
    "lin_reg.intercept_, lin_reg.coef_"
   ]
  },
  {
   "cell_type": "code",
   "execution_count": 17,
   "metadata": {},
   "outputs": [
    {
     "data": {
      "image/png": "[encoded data removed]",
      "text/plain": [
       "<Figure size 432x288 with 1 Axes>"
      ]
     },
     "metadata": {
      "needs_background": "light"
     },
     "output_type": "display_data"
    }
   ],
   "source": [
    "from sklearn.metrics import mean_squared_error\n",
    "from sklearn.model_selection import train_test_split\n",
    "\n",
    "def plot_learning_curves(model, X, y):\n",
    "    X_train, X_val, y_train, y_val = train_test_split(X, y, test_size=0.2)\n",
    "    train_errors, val_errors = [], []\n",
    "    for m in range(1, len(X_train)):\n",
    "        model.fit(X_train[:m], y_train[:m])\n",
    "        y_train_predict = model.predict(X_train[:m])\n",
    "        y_val_predict = model.predict(X_val)\n",
    "        train_errors.append(mean_squared_error(y_train[:m], y_train_predict))\n",
    "        val_errors.append(mean_squared_error(y_val, y_val_predict))\n",
    "    axes = plt.gca()\n",
    "    axes.set_ylim([0, 3])\n",
    "    plt.plot(np.sqrt(train_errors), \"r-+\", linewidth=2, label=\"train\")\n",
    "    plt.plot(np.sqrt(val_errors), \"b-\", linewidth=3, label=\"val\")\n",
    "\n",
    "lin_reg = LinearRegression()\n",
    "plot_learning_curves(lin_reg, X, y)"
   ]
  },
  {
   "cell_type": "code",
   "execution_count": 18,
   "metadata": {},
   "outputs": [
    {
     "data": {
      "image/png": "[encoded data removed]",
      "text/plain": [
       "<Figure size 432x288 with 1 Axes>"
      ]
     },
     "metadata": {
      "needs_background": "light"
     },
     "output_type": "display_data"
    }
   ],
   "source": [
    "from sklearn.pipeline import Pipeline\n",
    "\n",
    "polynomial_regression = Pipeline([\n",
    "    (\"poly_features\", PolynomialFeatures(degree=10, include_bias=False)),\n",
    "    (\"lin_reg\", LinearRegression())\n",
    "])\n",
    "\n",
    "plot_learning_curves(polynomial_regression, X, y)"
   ]
  },
  {
   "cell_type": "code",
   "execution_count": 19,
   "metadata": {},
   "outputs": [
    {
     "data": {
      "text/plain": [
       "array([[4.74568927]])"
      ]
     },
     "execution_count": 19,
     "metadata": {},
     "output_type": "execute_result"
    }
   ],
   "source": [
    "from sklearn.linear_model import Ridge\n",
    "\n",
    "ridge_reg = Ridge(alpha=1, solver=\"cholesky\")\n",
    "ridge_reg.fit(X, y)\n",
    "ridge_reg.predict([[1.5]])"
   ]
  },
  {
   "cell_type": "code",
   "execution_count": 20,
   "metadata": {},
   "outputs": [
    {
     "data": {
      "text/plain": [
       "array([4.7225709])"
      ]
     },
     "execution_count": 20,
     "metadata": {},
     "output_type": "execute_result"
    }
   ],
   "source": [
    "sgd_reg = SGDRegressor(penalty=\"l2\")\n",
    "sgd_reg.fit(X, y.ravel())\n",
    "sgd_reg.predict([[1.5]])"
   ]
  },
  {
   "cell_type": "code",
   "execution_count": 21,
   "metadata": {},
   "outputs": [
    {
     "data": {
      "text/plain": [
       "array([4.69513748])"
      ]
     },
     "execution_count": 21,
     "metadata": {},
     "output_type": "execute_result"
    }
   ],
   "source": [
    "from sklearn.linear_model import Lasso\n",
    "\n",
    "lasso_reg = Lasso(alpha=0.1)\n",
    "lasso_reg.fit(X, y)\n",
    "lasso_reg.predict([[1.5]])"
   ]
  },
  {
   "cell_type": "code",
   "execution_count": 22,
   "metadata": {},
   "outputs": [
    {
     "data": {
      "text/plain": [
       "array([4.70001439])"
      ]
     },
     "execution_count": 22,
     "metadata": {},
     "output_type": "execute_result"
    }
   ],
   "source": [
    "from sklearn.linear_model import ElasticNet\n",
    "\n",
    "elastic_net = ElasticNet(alpha=0.1, l1_ratio=0.5)\n",
    "elastic_net.fit(X, y)\n",
    "elastic_net.predict([[1.5]])"
   ]
  },
  {
   "cell_type": "code",
   "execution_count": 23,
   "metadata": {},
   "outputs": [
    {
     "name": "stdout",
     "output_type": "stream",
     "text": [
      "989\n"
     ]
    }
   ],
   "source": [
    "from sklearn.base import clone\n",
    "from sklearn.preprocessing import StandardScaler\n",
    "\n",
    "X = 6 * np.random.rand(m, 1) - 3\n",
    "y = 0.5 * X**2 + X + 2 + np.random.randn(m, 1)\n",
    "X_train, X_val, y_train, y_val = train_test_split(X, y, test_size=0.2)\n",
    "\n",
    "# prepare the data\n",
    "poly_scaler = Pipeline([\n",
    "    (\"poly_features\", PolynomialFeatures(degree=90, include_bias=False)),\n",
    "    (\"std_scaler\", StandardScaler())\n",
    "])\n",
    "\n",
    "X_train_poly_scaled = poly_scaler.fit_transform(X_train)\n",
    "X_val_poly_scaled = poly_scaler.transform(X_val)\n",
    "\n",
    "sgd_reg = SGDRegressor(max_iter=1, tol=-np.infty, warm_start=True,\n",
    "                      penalty=None, learning_rate=\"constant\", eta0=0.0005)\n",
    "minimum_val_error = float(\"inf\")\n",
    "best_epoch = None\n",
    "best_model = None\n",
    "for epoch in range(1000):\n",
    "    sgd_reg.fit(X_train_poly_scaled, y_train.ravel())  # continues where it left off\n",
    "    y_val_predict = sgd_reg.predict(X_val_poly_scaled)\n",
    "    val_error = mean_squared_error(y_val, y_val_predict)\n",
    "    if val_error < minimum_val_error:\n",
    "        minimum_val_error = val_error\n",
    "        best_epoch = epoch\n",
    "        best_model = clone(sgd_reg)\n",
    "        \n",
    "print(best_epoch)"
   ]
  },
  {
   "cell_type": "code",
   "execution_count": 24,
   "metadata": {},
   "outputs": [
    {
     "data": {
      "text/plain": [
       "['data', 'target', 'target_names', 'DESCR', 'feature_names', 'filename']"
      ]
     },
     "execution_count": 24,
     "metadata": {},
     "output_type": "execute_result"
    }
   ],
   "source": [
    "from sklearn import datasets\n",
    "\n",
    "iris = datasets.load_iris()\n",
    "list(iris.keys())"
   ]
  },
  {
   "cell_type": "code",
   "execution_count": 25,
   "metadata": {},
   "outputs": [],
   "source": [
    "X = iris[\"data\"][:, 3:]  # petal width\n",
    "y = (iris[\"target\"] == 2).astype(np.int)  # 1 if Iris-Virginica, else 0"
   ]
  },
  {
   "cell_type": "code",
   "execution_count": 26,
   "metadata": {},
   "outputs": [
    {
     "data": {
      "text/plain": [
       "LogisticRegression(C=1.0, class_weight=None, dual=False, fit_intercept=True,\n",
       "                   intercept_scaling=1, l1_ratio=None, max_iter=100,\n",
       "                   multi_class='warn', n_jobs=None, penalty='l2',\n",
       "                   random_state=None, solver='lbfgs', tol=0.0001, verbose=0,\n",
       "                   warm_start=False)"
      ]
     },
     "execution_count": 26,
     "metadata": {},
     "output_type": "execute_result"
    }
   ],
   "source": [
    "from sklearn.linear_model import LogisticRegression\n",
    "\n",
    "log_reg = LogisticRegression(solver=\"lbfgs\")\n",
    "log_reg.fit(X, y)"
   ]
  },
  {
   "cell_type": "code",
   "execution_count": 27,
   "metadata": {},
   "outputs": [
    {
     "data": {
      "text/plain": [
       "[<matplotlib.lines.Line2D at 0x1e58f3fb048>]"
      ]
     },
     "execution_count": 27,
     "metadata": {},
     "output_type": "execute_result"
    },
    {
     "data": {
      "image/png": "[encoded data removed]",
      "text/plain": [
       "<Figure size 432x288 with 1 Axes>"
      ]
     },
     "metadata": {
      "needs_background": "light"
     },
     "output_type": "display_data"
    }
   ],
   "source": [
    "X_new = np.linspace(0, 3, 1000).reshape(-1, 1)\n",
    "y_proba = log_reg.predict_proba(X_new)\n",
    "plt.plot(X_new, y_proba[:, 1], \"g-\", label=\"Iris-Virginica\")\n",
    "plt.plot(X_new, y_proba[:, 0], \"b--\", label=\"Not Iris-Virginica\")"
   ]
  },
  {
   "cell_type": "code",
   "execution_count": 28,
   "metadata": {},
   "outputs": [
    {
     "data": {
      "text/plain": [
       "LogisticRegression(C=10, class_weight=None, dual=False, fit_intercept=True,\n",
       "                   intercept_scaling=1, l1_ratio=None, max_iter=100,\n",
       "                   multi_class='multinomial', n_jobs=None, penalty='l2',\n",
       "                   random_state=None, solver='lbfgs', tol=0.0001, verbose=0,\n",
       "                   warm_start=False)"
      ]
     },
     "execution_count": 28,
     "metadata": {},
     "output_type": "execute_result"
    }
   ],
   "source": [
    "X = iris[\"data\"][:, (2, 3)]  # petal length and width\n",
    "y = iris[\"target\"]\n",
    "\n",
    "softmax_reg = LogisticRegression(multi_class=\"multinomial\", solver=\"lbfgs\",\n",
    "                                C=10)\n",
    "softmax_reg.fit(X, y)"
   ]
  },
  {
   "cell_type": "code",
   "execution_count": 29,
   "metadata": {},
   "outputs": [
    {
     "data": {
      "text/plain": [
       "array([2])"
      ]
     },
     "execution_count": 29,
     "metadata": {},
     "output_type": "execute_result"
    }
   ],
   "source": [
    "softmax_reg.predict([[5, 2]])"
   ]
  },
  {
   "cell_type": "code",
   "execution_count": 30,
   "metadata": {},
   "outputs": [
    {
     "data": {
      "text/plain": [
       "array([[6.38014896e-07, 5.74929995e-02, 9.42506362e-01]])"
      ]
     },
     "execution_count": 30,
     "metadata": {},
     "output_type": "execute_result"
    }
   ],
   "source": [
    "softmax_reg.predict_proba([[5, 2]])"
   ]
  },
  {
   "cell_type": "markdown",
   "metadata": {},
   "source": [
    "## Exercises\n",
    "\n",
    "### 1. What Linear Regression training algorithm can you use if you have a training set with millions of features?\n",
    "\n",
    "If you have a training set with a large number of features, you want to prefer a gradient descent algorithm, like plain Batch Gradient Descent or Stochastic Gradient Descent. Gradient descent algorithms' runtimes scale linearly with the number of features for computing the gradients whereas the normal equation and the Singular Value Decomposition require costly matrix operations in Omega(n^2).\n",
    "\n",
    "### 2. Suppose the features in your training set have very different scales. What algorithms might suffer from this, and how? What can you do about it?\n",
    "\n",
    "All gradient descent algorithms suffer, if the features are not properly scaled. The reason is that the algorithm always converges along the gradient, which might not be the direct way to the minimum, if the features don't have the same variance. A solution is to properly scale the features, for example with Scikit-Learn's StandardScaler.\n",
    "\n",
    "### 3. Can Gradient Descent get stuck in a local minimum when training a Logistic Regression model?\n",
    "\n",
    "No, because the cost function of Logistic Regression is convex. This means that the gradient always points towards the single global minimum, which will be found by the gradient descent algorithm.\n",
    "\n",
    "### 4. Do all Gradient Descent algorithms lead to the same model provided you let them run long enough?\n",
    "\n",
    "No, due to the random nature of Stochastic Gradient Descent and Mini-Batch Gradient Descent. Batch GD always converges towards a minimum, but if the cost function is not convex, it can be a local, non optimum minimum. However, if we are lucky Stochastic GD and Mini-Batch GD might select training instances or subsets that cause them to \"jump\" above the non optimal minimum and move further towards an optimal one. \n",
    "Also, these two algorithms never truly converge, but tend to move around a minimum. The intensity and direction of this noise depend on the data and the learning rate, where a large learning rate implies larger movements.\n",
    "\n",
    "### 5. Suppose you use Batch Gradient Descent and you plot the validation error every epoch. If you notice that the validation error consistently goes up, what is likely going on? How can you fix this?\n",
    "\n",
    "If the validation error consistently goes up, whereas the algorithm still converges along the gradient towards a minimum, the problem might be high variance caused by a difference in data used for training and validation. This causes your algorithm to overfit the training data. There are two strategies most commonly used to tackle this issue:\n",
    "1. Collect more training data to ensure that the training and validation sets are more similar.\n",
    "2. Add a regularization term to your cost function. This ensures (if the hyper parameters are properly selected) that you don't end up with a model much more complex than your data. The most known regularisations for Linear Regression are Ridge Regression with a squared regression term and Lasso Regression with a linear one.\n",
    "\n",
    "### 6. Is it a good idea to stop Mini-batch Gradient Descent immediately when the validation error goes up?\n",
    "\n",
    "No, because this might just be bad luck, because of Mini-Batches that don't represent the validation set. The validation error might still decrease, if we wait more iterations in which more preferable batches might be chosen randomly.\n",
    "\n",
    "### 7. Which Gradient Descent algorithm (among those we discussed) will reach the vicinity of the optimal solution the fastest? Which will actually converge? How can you make the others converge as well?\n",
    "\n",
    "Training a full Batch GD takes a lot of time on larger data sets. Therefore Stochastic GD and Mini-Batch GD are typically a lot faster. I would expect Mini-Batch GD to be the fastest on average depending on the batch size. Computing the gradient over a batch of instances instead of a single one yields a higher chance of actually being closer to the real gradient thus reducing the number of iterations needed.\n",
    "\n",
    "Typically only Batch GD converges and Stochastic and Mini-Batch GD don't, because of the randomly chosen data to compute the gradient. However, if we carefully choose a learning schedule with a decreasing learning rate, these algorithms can converge as well.\n",
    "\n",
    "### 8. Suppose you are using Polynomial Regression. You plot the learning curves and you notice that there is a large gap between the training error and the validation error. What is happening? What are three ways to solve this?\n",
    "\n",
    "The large error between training and validation error is likely caused by overfitting the training data. Choosing a high number of degrees might result in a model which is more complex than the underlying data distribution. The algorithm usually uses all possible degrees to minimize the cost function without regularization. Common strategies are as follows:\n",
    "1. Collect more training data. If the gaps between all data points get smaller, it gets more difficult for the learned function to move a lot in the gaps, which usually results in a more realistic function for the given training data. However, due to the curse of dimensionality this is often difficult.\n",
    "2. Add a regularization term, such as l1 or l2 regularization (see question 5 above).\n",
    "\n",
    "### 9. Suppose you are using Ridge Regression and you notice that the training error and the validation error are almost equal and fairly high. Would you say that the model suffers from high bias or high variance? Should you increase the regularization hyperparameter α or reduce it?\n",
    "\n",
    "Since both training and validation error are fairly high and almost equal, we probably have low variance and a lot of bias due to an underfitting model. To reduce the bias, we have to regularize less by reducing alpha.\n",
    "\n",
    "### 10. Why would you want to use:\n",
    "* Ridge Regression instead of plain Linear Regression (i.e., without any regularization)?\n",
    "\n",
    "We want to use a regularized model like Ridge Regression to prevent overfitting and reduce the variance. Models without regularization tend to overfit the data and have a large variance but lower bias.\n",
    "\n",
    "* Lasso instead of Ridge Regression?\n",
    "\n",
    "Lasso tends to result in sparse models with parameters which are actually 0, whereas Ridge Regression would set these to very small values close but not equal to 0 and returns a sparse model. This is advantageuous, when we believe a training set's distribution to be actually different than the one we are training, for example a polynomial model of degree 4 trained on quadratic data. Lasso would probably set the first two coefficients of the polynom to 0.\n",
    "\n",
    "* Elastic Net instead of Lasso?\n",
    "\n",
    "Elastic Net can combine the advantages of Lasso and Ridge Regression by using a combination of l1 and l2 regularization. Lasso often results in sparse models and completely eliminates useless coefficients. On the other hand, Ridge Regression behaves less erattically, when we have more parameters than training instances or if we have a strong correlation between different features.\n",
    "\n",
    "\n",
    "### 11.  Suppose you want to classify pictures as outdoor/indoor and daytime/nighttime. Should you implement two Logistic Regression classifiers or one Softmax Regression classifier?\n",
    "\n",
    "Softmax only supports multiclass but not multilabel outputs. This means it is usually not possible to predict whether is is night or day and outdoor or indoor at the same time. Therefore two Logistic Regression classifiers seem to be better for this usecase. However, it might be possible to modify the labels to mutually exclusive classes such as \"outdoor daytime\" or \"indoor daytime\" and classify them with a Softmax Regression classifier. This probably results in faster training because we only have one classifier, but the results may be worse.\n",
    "\n",
    "\n",
    "### 12.  Implement Batch Gradient Descent with early stopping for Softmax Regression (without using Scikit-Learn).\n"
   ]
  },
  {
   "cell_type": "code",
   "execution_count": 184,
   "metadata": {},
   "outputs": [],
   "source": [
    "# to save time we will use Scikit-Learn's utility functions and not implement them\n",
    "# ourselves. Only the Softmax Regression is implemented by hand.\n",
    "\n",
    "from sklearn.model_selection import train_test_split\n",
    "from sklearn.preprocessing import LabelBinarizer\n",
    "\n",
    "test_size = 0.2\n",
    "\n",
    "X = iris[\"data\"]\n",
    "y = iris[\"target\"]\n",
    "\n",
    "# add bias for every data instance\n",
    "X_bias = np.c_[np.ones([len(X), 1]), X]\n",
    "\n",
    "# split data into training, validation and test set\n",
    "X_train, X_test, y_train, y_test = train_test_split(X, y, test_size=test_size, random_state=1)\n",
    "val_size = test_size / (1 - test_size)\n",
    "X_train, X_val, y_train, y_val = train_test_split(X_train, y_train, test_size=val_size, random_state=1)\n",
    "\n",
    "enc = LabelBinarizer()\n",
    "enc.fit(y_train)\n",
    "y_train = enc.transform(y_train)"
   ]
  },
  {
   "cell_type": "code",
   "execution_count": 185,
   "metadata": {},
   "outputs": [],
   "source": [
    "def softmax(log_odds):\n",
    "    \"\"\"\n",
    "    Returns the probabilities to belong to certain classes as arrays\n",
    "    for given log-odd scores.\n",
    "    \"\"\"\n",
    "    exps = np.exp(log_odds)\n",
    "    sum_exps = np.sum(exps, axis=1, keepdims=True)\n",
    "    return exps / sum_exps"
   ]
  },
  {
   "cell_type": "code",
   "execution_count": 186,
   "metadata": {},
   "outputs": [
    {
     "name": "stdout",
     "output_type": "stream",
     "text": [
      "Iteration: 0 - Loss: 3.90124039393522\n",
      "Iteration: 200 - Loss: 0.2910190737857741\n",
      "Iteration: 400 - Loss: 0.21110874566545657\n",
      "Iteration: 600 - Loss: 0.17363959453869204\n",
      "Iteration: 800 - Loss: 0.15182143054705172\n",
      "Iteration: 1000 - Loss: 0.1374876706828262\n",
      "Iteration: 1200 - Loss: 0.12731482537516006\n",
      "Iteration: 1400 - Loss: 0.11969709925346465\n",
      "Iteration: 1600 - Loss: 0.11376346189392324\n",
      "Iteration: 1800 - Loss: 0.10900020907490231\n",
      "Iteration: 2000 - Loss: 0.1050845226228631\n",
      "Iteration: 2200 - Loss: 0.10180316821182846\n",
      "Iteration: 2400 - Loss: 0.0990095139652625\n",
      "Iteration: 2600 - Loss: 0.09659932822841044\n",
      "Iteration: 2800 - Loss: 0.09449643014109803\n",
      "Iteration: 3000 - Loss: 0.09264380794981861\n",
      "Iteration: 3200 - Loss: 0.09099791759547358\n",
      "Iteration: 3400 - Loss: 0.08952490652469786\n",
      "Iteration: 3600 - Loss: 0.08819804379375712\n",
      "Iteration: 3800 - Loss: 0.0869959290110867\n",
      "Iteration: 4000 - Loss: 0.08590121756407537\n",
      "Iteration: 4200 - Loss: 0.08489969617161137\n",
      "Iteration: 4400 - Loss: 0.08397960115614278\n",
      "Iteration: 4600 - Loss: 0.08313110805724958\n",
      "Iteration: 4800 - Loss: 0.08234594425985929\n"
     ]
    }
   ],
   "source": [
    "learning_rate = 0.1\n",
    "n_iterations = 5000\n",
    "n, n_features = X_train.shape\n",
    "n_labels = len(np.unique(y))\n",
    "eps = 1e-6  # prevent log(0)\n",
    "\n",
    "# initialize parameters with random values - model will converge,\n",
    "# because it is convex\n",
    "Theta = np.random.randn(n_features, n_labels)\n",
    "\n",
    "for iteration in range(n_iterations):\n",
    "    log_odds = X_train.dot(Theta)\n",
    "    probs = softmax(log_odds)\n",
    "    loss = -np.mean(np.sum(y_train * np.log(probs + eps), axis=1))\n",
    "    if iteration % 200 == 0:\n",
    "        print(\"Iteration: {0} - Loss: {1}\".format(iteration, loss))\n",
    "    gradients = 1/n * X_train.T.dot((probs - y_train))\n",
    "    Theta -= learning_rate * gradients"
   ]
  },
  {
   "cell_type": "code",
   "execution_count": 187,
   "metadata": {},
   "outputs": [
    {
     "data": {
      "text/plain": [
       "array([[ 1.70909626,  1.29468714, -2.24838549],\n",
       "       [ 2.9400199 , -0.03744131, -4.03587626],\n",
       "       [-3.97780163,  0.08041022,  4.73528374],\n",
       "       [-2.96513537, -3.10906614,  3.47589563]])"
      ]
     },
     "execution_count": 187,
     "metadata": {},
     "output_type": "execute_result"
    }
   ],
   "source": [
    "Theta"
   ]
  },
  {
   "cell_type": "code",
   "execution_count": 188,
   "metadata": {},
   "outputs": [
    {
     "name": "stdout",
     "output_type": "stream",
     "text": [
      "0.9333333333333333\n"
     ]
    }
   ],
   "source": [
    "from sklearn.metrics import accuracy_score\n",
    "\n",
    "log_odds = X_val.dot(Theta)\n",
    "y_probs = softmax(log_odds)\n",
    "y_preds = np.argmax(y_probs, axis=1)\n",
    "print(accuracy_score(y_preds, y_val))"
   ]
  },
  {
   "cell_type": "code",
   "execution_count": 196,
   "metadata": {},
   "outputs": [
    {
     "name": "stdout",
     "output_type": "stream",
     "text": [
      "Iteration: 0 - Loss: 2.295350190136736\n",
      "Iteration: 200 - Loss: 0.5083062074472232\n",
      "Iteration: 400 - Loss: 0.4629842144881138\n",
      "Iteration: 600 - Loss: 0.4575326514683741\n",
      "Iteration: 686 - Loss: 0.45733128146966007 - best model found!\n"
     ]
    }
   ],
   "source": [
    "learning_rate = 0.05\n",
    "n_iterations = 5000\n",
    "alpha = 0.1  # for l2 regularization\n",
    "\n",
    "# initialize parameters with random values - model will converge,\n",
    "# because it is convex\n",
    "Theta = np.random.randn(n_features, n_labels)\n",
    "best_loss = float(\"inf\")\n",
    "best_model = None\n",
    "best_iteration = None\n",
    "\n",
    "for iteration in range(n_iterations):\n",
    "    log_odds = X_train.dot(Theta)\n",
    "    probs = softmax(log_odds)\n",
    "    cross_entr_loss = -np.mean(np.sum(y_train * np.log(probs + eps), axis=1))\n",
    "    l2_loss = 0.5 * np.sum(np.square(Theta[:1]))\n",
    "    loss = cross_entr_loss + alpha * l2_loss\n",
    "    if iteration % 200 == 0:\n",
    "        print(\"Iteration: {0} - Loss: {1}\".format(iteration, loss))\n",
    "    if loss < best_loss:\n",
    "        gradients = 1/n * X_train.T.dot((probs - y_train)) + np.r_[np.zeros([1, n_labels]), alpha * Theta[1:]]\n",
    "        Theta -= learning_rate * gradients\n",
    "        best_loss = loss\n",
    "        best_model = Theta\n",
    "        best_epoch = iteration\n",
    "    else:\n",
    "        print(\"Iteration: {0} - Loss: {1} - best model found!\".format(iteration, loss))\n",
    "        break\n",
    "    "
   ]
  },
  {
   "cell_type": "code",
   "execution_count": 197,
   "metadata": {},
   "outputs": [
    {
     "name": "stdout",
     "output_type": "stream",
     "text": [
      "0.9333333333333333\n"
     ]
    }
   ],
   "source": [
    "log_odds = X_val.dot(best_model)\n",
    "y_probs = softmax(log_odds)\n",
    "y_preds = np.argmax(y_probs, axis=1)\n",
    "print(accuracy_score(y_preds, y_val))"
   ]
  },
  {
   "cell_type": "markdown",
   "metadata": {},
   "source": [
    "Plotting the predictions is unfortunately not possible, because I decided to use all three available features."
   ]
  },
  {
   "cell_type": "code",
   "execution_count": 191,
   "metadata": {},
   "outputs": [
    {
     "name": "stdout",
     "output_type": "stream",
     "text": [
      "0.7666666666666667\n"
     ]
    }
   ],
   "source": [
    "log_odds = X_test.dot(best_model)\n",
    "y_probs = softmax(log_odds)\n",
    "y_preds = np.argmax(y_probs, axis=1)\n",
    "print(accuracy_score(y_preds, y_test))"
   ]
  },
  {
   "cell_type": "code",
   "execution_count": null,
   "metadata": {},
   "outputs": [],
   "source": []
  }
 ],
 "metadata": {
  "kernelspec": {
   "display_name": "Python 3",
   "language": "python",
   "name": "python3"
  },
  "language_info": {
   "codemirror_mode": {
    "name": "ipython",
    "version": 3
   },
   "file_extension": ".py",
   "mimetype": "text/x-python",
   "name": "python",
   "nbconvert_exporter": "python",
   "pygments_lexer": "ipython3",
   "version": "3.7.3"
  }
 },
 "nbformat": 4,
 "nbformat_minor": 2
}
